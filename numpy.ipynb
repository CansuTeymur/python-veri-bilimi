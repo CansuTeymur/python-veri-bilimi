{
 "cells": [
  {
   "cell_type": "markdown",
   "id": "f309ee43-575d-4a07-af89-ddaa9b6952f7",
   "metadata": {},
   "source": [
    "# Numpy"
   ]
  },
  {
   "cell_type": "code",
   "execution_count": 1,
   "id": "8ead0cbe-a72e-4023-9c7b-e5cb6b0b68fb",
   "metadata": {
    "tags": []
   },
   "outputs": [],
   "source": [
    "import numpy as np"
   ]
  },
  {
   "cell_type": "markdown",
   "id": "f1053426-44bd-4cec-b59b-7ee64f3ea6e3",
   "metadata": {},
   "source": [
    "### Numpy Array'i Oluşturmak"
   ]
  },
  {
   "cell_type": "markdown",
   "id": "bfc06182-cc39-40fd-85ae-6166661d4a10",
   "metadata": {},
   "source": [
    "#### 1 - Liste Üzerinden oluşturmak"
   ]
  },
  {
   "cell_type": "code",
   "execution_count": 2,
   "id": "940e5c22-0a7f-4e20-96a2-eeb12bd270e4",
   "metadata": {
    "tags": []
   },
   "outputs": [],
   "source": [
    "a = np.array([1,2,3]) "
   ]
  },
  {
   "cell_type": "code",
   "execution_count": 3,
   "id": "e6dc8e84-820a-4f52-8e2f-61101958f91e",
   "metadata": {
    "tags": []
   },
   "outputs": [
    {
     "data": {
      "text/plain": [
       "array([1, 2, 3])"
      ]
     },
     "execution_count": 3,
     "metadata": {},
     "output_type": "execute_result"
    }
   ],
   "source": [
    "a"
   ]
  },
  {
   "cell_type": "code",
   "execution_count": 4,
   "id": "e0664936-23aa-414f-8b61-81922fe83747",
   "metadata": {
    "tags": []
   },
   "outputs": [
    {
     "data": {
      "text/plain": [
       "numpy.ndarray"
      ]
     },
     "execution_count": 4,
     "metadata": {},
     "output_type": "execute_result"
    }
   ],
   "source": [
    "type(a)"
   ]
  },
  {
   "cell_type": "code",
   "execution_count": 5,
   "id": "078d2372-a825-493c-bc18-d17556693959",
   "metadata": {
    "tags": []
   },
   "outputs": [
    {
     "data": {
      "text/plain": [
       "array([3.14, 4.  , 2.  ])"
      ]
     },
     "execution_count": 5,
     "metadata": {},
     "output_type": "execute_result"
    }
   ],
   "source": [
    "np.array([3.14,4,2])          # sabit tip veri tutar."
   ]
  },
  {
   "cell_type": "code",
   "execution_count": 6,
   "id": "3421d674-7497-4dfb-9fe7-210c9738fd03",
   "metadata": {
    "tags": []
   },
   "outputs": [
    {
     "data": {
      "text/plain": [
       "array([3, 4, 2])"
      ]
     },
     "execution_count": 6,
     "metadata": {},
     "output_type": "execute_result"
    }
   ],
   "source": [
    "np.array([3.14,4,2],dtype=\"int\")"
   ]
  },
  {
   "cell_type": "markdown",
   "id": "5ac974fc-e8e0-45e3-93d1-6dd61f64f63c",
   "metadata": {},
   "source": [
    "#### 2 - Sıfırdan Array Oluşturma"
   ]
  },
  {
   "cell_type": "code",
   "execution_count": 7,
   "id": "822a16d2-13b1-4fa1-88b3-d2ec77b5f6f0",
   "metadata": {
    "tags": []
   },
   "outputs": [
    {
     "data": {
      "text/plain": [
       "array([0., 0., 0., 0., 0., 0., 0., 0., 0., 0.])"
      ]
     },
     "execution_count": 7,
     "metadata": {},
     "output_type": "execute_result"
    }
   ],
   "source": [
    "np.zeros(10)          # tek boyutlu array"
   ]
  },
  {
   "cell_type": "code",
   "execution_count": 8,
   "id": "eba47b46-66a6-4481-b185-112c60e1fb0b",
   "metadata": {
    "tags": []
   },
   "outputs": [
    {
     "data": {
      "text/plain": [
       "array([[0., 0.],\n",
       "       [0., 0.]])"
      ]
     },
     "execution_count": 8,
     "metadata": {},
     "output_type": "execute_result"
    }
   ],
   "source": [
    "np.zeros((2,2))       # iki boyutlu array"
   ]
  },
  {
   "cell_type": "code",
   "execution_count": 9,
   "id": "ba58f577-263b-4bc1-bf0b-1f868d323f21",
   "metadata": {
    "tags": []
   },
   "outputs": [
    {
     "data": {
      "text/plain": [
       "array([[1., 1., 1., 1.],\n",
       "       [1., 1., 1., 1.],\n",
       "       [1., 1., 1., 1.]])"
      ]
     },
     "execution_count": 9,
     "metadata": {},
     "output_type": "execute_result"
    }
   ],
   "source": [
    "np.ones([3,4])        "
   ]
  },
  {
   "cell_type": "code",
   "execution_count": 10,
   "id": "2b308c2b-c9be-4c20-87db-8bc9cb911dbf",
   "metadata": {
    "tags": []
   },
   "outputs": [
    {
     "data": {
      "text/plain": [
       "array([[4, 4, 4, 4, 4],\n",
       "       [4, 4, 4, 4, 4],\n",
       "       [4, 4, 4, 4, 4]])"
      ]
     },
     "execution_count": 10,
     "metadata": {},
     "output_type": "execute_result"
    }
   ],
   "source": [
    "np.full([3,5],4)            # 4'lerden oluşan array oluşturmak için."
   ]
  },
  {
   "cell_type": "code",
   "execution_count": 11,
   "id": "d08259d5-af40-4db1-88b6-76b55c631cc9",
   "metadata": {
    "tags": []
   },
   "outputs": [
    {
     "data": {
      "text/plain": [
       "array([[1., 0., 0., 0.],\n",
       "       [0., 1., 0., 0.],\n",
       "       [0., 0., 1., 0.],\n",
       "       [0., 0., 0., 1.]])"
      ]
     },
     "execution_count": 11,
     "metadata": {},
     "output_type": "execute_result"
    }
   ],
   "source": [
    "np.eye(4)"
   ]
  },
  {
   "cell_type": "code",
   "execution_count": 12,
   "id": "9954176b-7187-458c-b3dd-e2175fea9920",
   "metadata": {
    "tags": []
   },
   "outputs": [
    {
     "data": {
      "text/plain": [
       "array([ 0,  3,  6,  9, 12, 15, 18])"
      ]
     },
     "execution_count": 12,
     "metadata": {},
     "output_type": "execute_result"
    }
   ],
   "source": [
    "np.arange(0,21,3)"
   ]
  },
  {
   "cell_type": "code",
   "execution_count": 13,
   "id": "911d4e6c-61a2-4372-8eb5-973d64e32d2b",
   "metadata": {
    "tags": []
   },
   "outputs": [
    {
     "data": {
      "text/plain": [
       "array([0.        , 0.11111111, 0.22222222, 0.33333333, 0.44444444,\n",
       "       0.55555556, 0.66666667, 0.77777778, 0.88888889, 1.        ])"
      ]
     },
     "execution_count": 13,
     "metadata": {},
     "output_type": "execute_result"
    }
   ],
   "source": [
    "np.linspace(0,1,10)              # 0'dan 1'e kdr aralarında eşit fark olan 10 sayı üretme. "
   ]
  },
  {
   "cell_type": "code",
   "execution_count": 14,
   "id": "1b973945-e812-4689-acdd-40f9e82ed781",
   "metadata": {
    "tags": []
   },
   "outputs": [
    {
     "data": {
      "text/plain": [
       "array([[13.78775502, 12.60059889, 13.37334674,  5.88415943],\n",
       "       [ 3.70943845, 10.97180446,  2.70210338,  8.77417834],\n",
       "       [ 8.05414034, 14.23605755,  9.64824206,  2.73805015]])"
      ]
     },
     "execution_count": 14,
     "metadata": {},
     "output_type": "execute_result"
    }
   ],
   "source": [
    "np.random.normal(10,4,(3,4))     # ortalaması : 10 ,standart sapması : 4 olan iki boyutlu array oluşturma."
   ]
  },
  {
   "cell_type": "code",
   "execution_count": 15,
   "id": "3a50849c-67f1-410e-a90a-5beb684f0991",
   "metadata": {
    "tags": []
   },
   "outputs": [
    {
     "data": {
      "text/plain": [
       "array([[1, 2, 0],\n",
       "       [8, 4, 7],\n",
       "       [5, 4, 2]])"
      ]
     },
     "execution_count": 15,
     "metadata": {},
     "output_type": "execute_result"
    }
   ],
   "source": [
    "np.random.randint(0,10,(3,3))    # 0-10 arası int değerlerden rastgele oluşturulur.(10 sayısı dahil değil)"
   ]
  },
  {
   "cell_type": "markdown",
   "id": "bcab8e94-ebfe-43c3-a619-aba31f75670d",
   "metadata": {},
   "source": [
    "### Özellikleri\n",
    "\n",
    "* ndim : boyut sayisi\n",
    "* shape : boyut bilgisi\n",
    "* size : toplam eleman sayisi\n",
    "* dtype : array veri tipi"
   ]
  },
  {
   "cell_type": "code",
   "execution_count": 16,
   "id": "c7b01fb0-9812-4594-9d39-dea10c1019a9",
   "metadata": {
    "tags": []
   },
   "outputs": [],
   "source": [
    "b = np.random.randint(0,10,(2,3))"
   ]
  },
  {
   "cell_type": "code",
   "execution_count": 17,
   "id": "af3dee1b-b5dc-40ea-8b59-36529327c01b",
   "metadata": {
    "tags": []
   },
   "outputs": [
    {
     "data": {
      "text/plain": [
       "array([[7, 4, 7],\n",
       "       [4, 8, 2]])"
      ]
     },
     "execution_count": 17,
     "metadata": {},
     "output_type": "execute_result"
    }
   ],
   "source": [
    "b"
   ]
  },
  {
   "cell_type": "code",
   "execution_count": 18,
   "id": "3011850c-478e-497f-8636-f4269ebe5b3c",
   "metadata": {
    "tags": []
   },
   "outputs": [
    {
     "data": {
      "text/plain": [
       "2"
      ]
     },
     "execution_count": 18,
     "metadata": {},
     "output_type": "execute_result"
    }
   ],
   "source": [
    "b.ndim"
   ]
  },
  {
   "cell_type": "code",
   "execution_count": 19,
   "id": "2e32225e-fa23-4760-aeb6-0ebbe0a9edf3",
   "metadata": {
    "tags": []
   },
   "outputs": [
    {
     "data": {
      "text/plain": [
       "(2, 3)"
      ]
     },
     "execution_count": 19,
     "metadata": {},
     "output_type": "execute_result"
    }
   ],
   "source": [
    "b.shape"
   ]
  },
  {
   "cell_type": "code",
   "execution_count": 20,
   "id": "6f1fc2be-a4b1-48c8-b9a2-8d469745b0d3",
   "metadata": {
    "tags": []
   },
   "outputs": [
    {
     "data": {
      "text/plain": [
       "6"
      ]
     },
     "execution_count": 20,
     "metadata": {},
     "output_type": "execute_result"
    }
   ],
   "source": [
    "b.size"
   ]
  },
  {
   "cell_type": "code",
   "execution_count": 21,
   "id": "e4414592-6d06-4b58-9b5e-07c486576e2b",
   "metadata": {
    "tags": []
   },
   "outputs": [
    {
     "data": {
      "text/plain": [
       "dtype('int32')"
      ]
     },
     "execution_count": 21,
     "metadata": {},
     "output_type": "execute_result"
    }
   ],
   "source": [
    "b.dtype"
   ]
  },
  {
   "cell_type": "markdown",
   "id": "38b934b9-3fe0-4bfe-b0de-e522f809d93e",
   "metadata": {
    "tags": []
   },
   "source": [
    "### Yeniden Şekillendirme (reshaping)"
   ]
  },
  {
   "cell_type": "code",
   "execution_count": 22,
   "id": "2d0222c4-41a0-476b-a224-e4c1189a035e",
   "metadata": {
    "tags": []
   },
   "outputs": [
    {
     "data": {
      "text/plain": [
       "array([1, 2, 3, 4, 5, 6, 7, 8, 9])"
      ]
     },
     "execution_count": 22,
     "metadata": {},
     "output_type": "execute_result"
    }
   ],
   "source": [
    "c = np.arange(1,10)\n",
    "c"
   ]
  },
  {
   "cell_type": "code",
   "execution_count": 23,
   "id": "0bb9272e-6f5e-4c27-8324-37d96d6bcc33",
   "metadata": {
    "tags": []
   },
   "outputs": [
    {
     "data": {
      "text/plain": [
       "array([[1, 2, 3],\n",
       "       [4, 5, 6],\n",
       "       [7, 8, 9]])"
      ]
     },
     "execution_count": 23,
     "metadata": {},
     "output_type": "execute_result"
    }
   ],
   "source": [
    "d = c.reshape((3,3)) \n",
    "d"
   ]
  },
  {
   "cell_type": "markdown",
   "id": "af842b18-f0ac-4d1e-a3a9-c7e1de140a2c",
   "metadata": {},
   "source": [
    "### Array Birleştirme(Concatenation) "
   ]
  },
  {
   "cell_type": "markdown",
   "id": "8502aab6-05e0-4e2d-81dd-f3ba0fe7ca65",
   "metadata": {},
   "source": [
    "##### tek boyut üzerinde birleştirme"
   ]
  },
  {
   "cell_type": "code",
   "execution_count": 24,
   "id": "1080a6a2-3662-4d6d-be97-5fc999a76992",
   "metadata": {
    "tags": []
   },
   "outputs": [],
   "source": [
    "x = np.array([4,6,9])  \n",
    "y = np.array([3,2,5])"
   ]
  },
  {
   "cell_type": "code",
   "execution_count": 25,
   "id": "1afeac57-7036-4c41-8d16-95e676119c16",
   "metadata": {
    "tags": []
   },
   "outputs": [
    {
     "data": {
      "text/plain": [
       "array([4, 6, 9, 3, 2, 5])"
      ]
     },
     "execution_count": 25,
     "metadata": {},
     "output_type": "execute_result"
    }
   ],
   "source": [
    "np.concatenate([x,y])"
   ]
  },
  {
   "cell_type": "code",
   "execution_count": 26,
   "id": "2d3f2864-4298-4e19-962b-a3d45aef4465",
   "metadata": {
    "tags": []
   },
   "outputs": [],
   "source": [
    "z = np.array([1,8,2])"
   ]
  },
  {
   "cell_type": "code",
   "execution_count": 27,
   "id": "d7a48b31-c120-4dae-9e20-608a96f4e65e",
   "metadata": {
    "tags": []
   },
   "outputs": [
    {
     "data": {
      "text/plain": [
       "array([4, 6, 9, 3, 2, 5, 1, 8, 2])"
      ]
     },
     "execution_count": 27,
     "metadata": {},
     "output_type": "execute_result"
    }
   ],
   "source": [
    "np.concatenate([x,y,z])"
   ]
  },
  {
   "cell_type": "markdown",
   "id": "886b2ad5-4084-4099-9df6-cde6059f0879",
   "metadata": {},
   "source": [
    "##### iki boyut üzerinde birleştirme"
   ]
  },
  {
   "cell_type": "code",
   "execution_count": 28,
   "id": "7c1e2e5a-f819-4a6c-b694-15963147ecd0",
   "metadata": {
    "tags": []
   },
   "outputs": [],
   "source": [
    "e = np.array([[1,2,3],\n",
    "              [4,5,6]]) "
   ]
  },
  {
   "cell_type": "code",
   "execution_count": 29,
   "id": "75e7cc34-5a4d-43fc-b854-9fd081559e82",
   "metadata": {
    "tags": []
   },
   "outputs": [
    {
     "data": {
      "text/plain": [
       "array([[1, 2, 3],\n",
       "       [4, 5, 6]])"
      ]
     },
     "execution_count": 29,
     "metadata": {},
     "output_type": "execute_result"
    }
   ],
   "source": [
    "e"
   ]
  },
  {
   "cell_type": "code",
   "execution_count": 30,
   "id": "508edcb2-0da9-4d14-a73d-a266310e2419",
   "metadata": {
    "tags": []
   },
   "outputs": [
    {
     "data": {
      "text/plain": [
       "array([[1, 2, 3],\n",
       "       [4, 5, 6],\n",
       "       [1, 2, 3],\n",
       "       [4, 5, 6]])"
      ]
     },
     "execution_count": 30,
     "metadata": {},
     "output_type": "execute_result"
    }
   ],
   "source": [
    "np.concatenate([e,e])    # axis=0 satır bazında birleştirme yapar."
   ]
  },
  {
   "cell_type": "code",
   "execution_count": 31,
   "id": "c5858d3e-3eee-4175-b8c8-184d3ff0e743",
   "metadata": {
    "tags": []
   },
   "outputs": [
    {
     "data": {
      "text/plain": [
       "array([[1, 2, 3, 1, 2, 3],\n",
       "       [4, 5, 6, 4, 5, 6]])"
      ]
     },
     "execution_count": 31,
     "metadata": {},
     "output_type": "execute_result"
    }
   ],
   "source": [
    "np.concatenate([e,e],axis = 1)   # axis=1 sütun bazında birleştirme yapar."
   ]
  },
  {
   "cell_type": "markdown",
   "id": "78b81f6d-cd08-4bc9-9138-550ceb720b88",
   "metadata": {},
   "source": [
    "### Array Ayırma (Splitting)"
   ]
  },
  {
   "cell_type": "markdown",
   "id": "91354e43-ac07-40fd-a112-4778c6d3682e",
   "metadata": {},
   "source": [
    "##### tek boyutlu"
   ]
  },
  {
   "cell_type": "code",
   "execution_count": 32,
   "id": "81186ff0-0bb3-4217-b8da-8bafee3ca700",
   "metadata": {
    "tags": []
   },
   "outputs": [],
   "source": [
    "x = np.array([1,4,3,76,59,3,9,1])"
   ]
  },
  {
   "cell_type": "code",
   "execution_count": 33,
   "id": "57421da8-49f6-435a-8eff-b2fb398a8e10",
   "metadata": {
    "tags": []
   },
   "outputs": [
    {
     "data": {
      "text/plain": [
       "[array([1, 4, 3]), array([76, 59]), array([3, 9, 1])]"
      ]
     },
     "execution_count": 33,
     "metadata": {},
     "output_type": "execute_result"
    }
   ],
   "source": [
    "np.split(x,[3,5])"
   ]
  },
  {
   "cell_type": "code",
   "execution_count": 34,
   "id": "60d8277f-e6c9-49de-903f-9fefc6599561",
   "metadata": {
    "tags": []
   },
   "outputs": [],
   "source": [
    "a,b,c = np.split(x,[3,5]) "
   ]
  },
  {
   "cell_type": "code",
   "execution_count": 35,
   "id": "d35199ab-6a7a-4f52-bccb-f65ef5264ee7",
   "metadata": {
    "tags": []
   },
   "outputs": [
    {
     "data": {
      "text/plain": [
       "array([1, 4, 3])"
      ]
     },
     "execution_count": 35,
     "metadata": {},
     "output_type": "execute_result"
    }
   ],
   "source": [
    "a"
   ]
  },
  {
   "cell_type": "code",
   "execution_count": 36,
   "id": "f9ecf620-6678-46ee-ad42-7e55f40889db",
   "metadata": {
    "tags": []
   },
   "outputs": [
    {
     "data": {
      "text/plain": [
       "array([76, 59])"
      ]
     },
     "execution_count": 36,
     "metadata": {},
     "output_type": "execute_result"
    }
   ],
   "source": [
    "b"
   ]
  },
  {
   "cell_type": "code",
   "execution_count": 37,
   "id": "16b09edc-6667-4b01-9824-24710b518fe6",
   "metadata": {
    "tags": []
   },
   "outputs": [
    {
     "data": {
      "text/plain": [
       "array([3, 9, 1])"
      ]
     },
     "execution_count": 37,
     "metadata": {},
     "output_type": "execute_result"
    }
   ],
   "source": [
    "c"
   ]
  },
  {
   "cell_type": "markdown",
   "id": "eee530e9-8cc5-40f0-b3b1-805f23eefee6",
   "metadata": {},
   "source": [
    "##### iki boyutlu"
   ]
  },
  {
   "cell_type": "code",
   "execution_count": 38,
   "id": "9a7c8dd1-7f82-48de-8efa-6c74f6e5845f",
   "metadata": {
    "tags": []
   },
   "outputs": [
    {
     "data": {
      "text/plain": [
       "array([[ 0,  1,  2,  3],\n",
       "       [ 4,  5,  6,  7],\n",
       "       [ 8,  9, 10, 11],\n",
       "       [12, 13, 14, 15]])"
      ]
     },
     "execution_count": 38,
     "metadata": {},
     "output_type": "execute_result"
    }
   ],
   "source": [
    "m = np.arange(16).reshape(4,4)\n",
    "m"
   ]
  },
  {
   "cell_type": "code",
   "execution_count": 39,
   "id": "6bf483ea-2f4d-457c-8163-8ff407e42b34",
   "metadata": {
    "tags": []
   },
   "outputs": [
    {
     "data": {
      "text/plain": [
       "[array([[0, 1, 2, 3],\n",
       "        [4, 5, 6, 7]]),\n",
       " array([[ 8,  9, 10, 11],\n",
       "        [12, 13, 14, 15]])]"
      ]
     },
     "execution_count": 39,
     "metadata": {},
     "output_type": "execute_result"
    }
   ],
   "source": [
    "np.vsplit(m , [2])               # ikiye kdr olan kısmı yatay olarak böl."
   ]
  },
  {
   "cell_type": "code",
   "execution_count": 40,
   "id": "434309fd-6e10-4c5f-958f-cafa86c8d160",
   "metadata": {
    "tags": []
   },
   "outputs": [],
   "source": [
    "ust , alt = np.vsplit(m , [2])"
   ]
  },
  {
   "cell_type": "code",
   "execution_count": 41,
   "id": "c6238743-cc34-4a14-a602-e969a38ff814",
   "metadata": {
    "tags": []
   },
   "outputs": [
    {
     "data": {
      "text/plain": [
       "array([[0, 1, 2, 3],\n",
       "       [4, 5, 6, 7]])"
      ]
     },
     "execution_count": 41,
     "metadata": {},
     "output_type": "execute_result"
    }
   ],
   "source": [
    "ust"
   ]
  },
  {
   "cell_type": "code",
   "execution_count": 42,
   "id": "086184aa-7da1-4cb3-9bff-88065b31b698",
   "metadata": {
    "tags": []
   },
   "outputs": [
    {
     "data": {
      "text/plain": [
       "array([[ 8,  9, 10, 11],\n",
       "       [12, 13, 14, 15]])"
      ]
     },
     "execution_count": 42,
     "metadata": {},
     "output_type": "execute_result"
    }
   ],
   "source": [
    "alt"
   ]
  },
  {
   "cell_type": "code",
   "execution_count": 43,
   "id": "b8f918b3-cc00-466e-a66c-040cfcdcd715",
   "metadata": {
    "tags": []
   },
   "outputs": [
    {
     "data": {
      "text/plain": [
       "[array([[ 0,  1],\n",
       "        [ 4,  5],\n",
       "        [ 8,  9],\n",
       "        [12, 13]]),\n",
       " array([[ 2,  3],\n",
       "        [ 6,  7],\n",
       "        [10, 11],\n",
       "        [14, 15]])]"
      ]
     },
     "execution_count": 43,
     "metadata": {},
     "output_type": "execute_result"
    }
   ],
   "source": [
    "np.hsplit(m,[2])                 # dikey olrk böler."
   ]
  },
  {
   "cell_type": "code",
   "execution_count": 44,
   "id": "06c851f8-2b1d-4ce2-aa06-1b9ca994a215",
   "metadata": {
    "tags": []
   },
   "outputs": [],
   "source": [
    "sag , sol = np.hsplit(m,[2])"
   ]
  },
  {
   "cell_type": "code",
   "execution_count": 45,
   "id": "c210001f-8384-4430-befa-19ce7efc8d8a",
   "metadata": {
    "tags": []
   },
   "outputs": [
    {
     "data": {
      "text/plain": [
       "array([[ 0,  1],\n",
       "       [ 4,  5],\n",
       "       [ 8,  9],\n",
       "       [12, 13]])"
      ]
     },
     "execution_count": 45,
     "metadata": {},
     "output_type": "execute_result"
    }
   ],
   "source": [
    "sag"
   ]
  },
  {
   "cell_type": "code",
   "execution_count": 46,
   "id": "27a34e50-f3b5-4809-ab7d-13f4485df62b",
   "metadata": {
    "tags": []
   },
   "outputs": [
    {
     "data": {
      "text/plain": [
       "array([[ 2,  3],\n",
       "       [ 6,  7],\n",
       "       [10, 11],\n",
       "       [14, 15]])"
      ]
     },
     "execution_count": 46,
     "metadata": {},
     "output_type": "execute_result"
    }
   ],
   "source": [
    "sol"
   ]
  },
  {
   "cell_type": "markdown",
   "id": "4a9a54b3-0d4c-4879-b219-6cd82fc69b52",
   "metadata": {},
   "source": [
    "### Array Sıralama (Sorting)"
   ]
  },
  {
   "cell_type": "markdown",
   "id": "3d9fc946-c78a-41c6-9391-9bd3d5055721",
   "metadata": {},
   "source": [
    "##### tek boyutlu"
   ]
  },
  {
   "cell_type": "code",
   "execution_count": 47,
   "id": "221dfce1-755e-4bdc-a2ba-7a766975e363",
   "metadata": {
    "tags": []
   },
   "outputs": [],
   "source": [
    "v = np.array([2,1,4,3,5])"
   ]
  },
  {
   "cell_type": "code",
   "execution_count": 48,
   "id": "36969efb-5327-4220-a899-ff1fed4d4eb5",
   "metadata": {
    "tags": []
   },
   "outputs": [
    {
     "data": {
      "text/plain": [
       "array([1, 2, 3, 4, 5])"
      ]
     },
     "execution_count": 48,
     "metadata": {},
     "output_type": "execute_result"
    }
   ],
   "source": [
    "np.sort(v)               # küçükten büyüğe sıralar.Veri setinin orijinal yapısını bozmaz."
   ]
  },
  {
   "cell_type": "code",
   "execution_count": 49,
   "id": "9be93b99-d0a9-48f5-ac86-c6ae2d20bd48",
   "metadata": {
    "tags": []
   },
   "outputs": [
    {
     "data": {
      "text/plain": [
       "array([2, 1, 4, 3, 5])"
      ]
     },
     "execution_count": 49,
     "metadata": {},
     "output_type": "execute_result"
    }
   ],
   "source": [
    "v"
   ]
  },
  {
   "cell_type": "code",
   "execution_count": 50,
   "id": "ac3abf0e-35e2-4a98-98ea-c546cb9e5fc4",
   "metadata": {
    "tags": []
   },
   "outputs": [
    {
     "data": {
      "text/plain": [
       "array([1, 2, 3, 4, 5])"
      ]
     },
     "execution_count": 50,
     "metadata": {},
     "output_type": "execute_result"
    }
   ],
   "source": [
    "v.sort()                 # kalıcı olrk sıralama yapar.\n",
    "v"
   ]
  },
  {
   "cell_type": "markdown",
   "id": "2b6ba47e-5f56-4977-a81a-712b3a4dbfd7",
   "metadata": {},
   "source": [
    "##### iki boyutlu "
   ]
  },
  {
   "cell_type": "code",
   "execution_count": 51,
   "id": "f36dff36-20a4-4018-abbb-a6c9aaf6ce3a",
   "metadata": {
    "tags": []
   },
   "outputs": [
    {
     "data": {
      "text/plain": [
       "array([[21.77681736, 17.89209625, 24.98857039],\n",
       "       [19.15088547, 29.04075687, 20.22610146],\n",
       "       [16.21452248, 12.32651734, 17.79716436]])"
      ]
     },
     "execution_count": 51,
     "metadata": {},
     "output_type": "execute_result"
    }
   ],
   "source": [
    "m = np.random.normal(20,5,(3,3))      # ortalaması :20  ,standart sapması :5 olan array oluşturma.\n",
    "m"
   ]
  },
  {
   "cell_type": "code",
   "execution_count": 52,
   "id": "f1e6ef73-639f-4649-8498-44d778a5e4e8",
   "metadata": {
    "tags": []
   },
   "outputs": [
    {
     "data": {
      "text/plain": [
       "array([[17.89209625, 21.77681736, 24.98857039],\n",
       "       [19.15088547, 20.22610146, 29.04075687],\n",
       "       [12.32651734, 16.21452248, 17.79716436]])"
      ]
     },
     "execution_count": 52,
     "metadata": {},
     "output_type": "execute_result"
    }
   ],
   "source": [
    "np.sort(m,axis = 1)                   # satırları küçükten büyüğe sıralar."
   ]
  },
  {
   "cell_type": "code",
   "execution_count": 53,
   "id": "37720096-5300-4b2f-a75e-b5d9780c5443",
   "metadata": {
    "tags": []
   },
   "outputs": [
    {
     "data": {
      "text/plain": [
       "array([[16.21452248, 12.32651734, 17.79716436],\n",
       "       [19.15088547, 17.89209625, 20.22610146],\n",
       "       [21.77681736, 29.04075687, 24.98857039]])"
      ]
     },
     "execution_count": 53,
     "metadata": {},
     "output_type": "execute_result"
    }
   ],
   "source": [
    "np.sort(m,axis = 0)                   # sütunları küçükten büyüğe sıralar."
   ]
  },
  {
   "cell_type": "markdown",
   "id": "becb81cb-3152-4ffc-ae9e-1cb7d8afbdb2",
   "metadata": {
    "tags": []
   },
   "source": [
    "### Index ile Elemanlara Erişmek "
   ]
  },
  {
   "cell_type": "code",
   "execution_count": 54,
   "id": "0bff0eee-283d-4923-a20a-97cd78dd299e",
   "metadata": {
    "tags": []
   },
   "outputs": [
    {
     "data": {
      "text/plain": [
       "array([6, 3, 5, 9, 3])"
      ]
     },
     "execution_count": 54,
     "metadata": {},
     "output_type": "execute_result"
    }
   ],
   "source": [
    "a = np.random.randint(10, size = 5)\n",
    "a"
   ]
  },
  {
   "cell_type": "code",
   "execution_count": 55,
   "id": "4f7d15c2-c61b-4214-8dbf-e4c8677c9ce5",
   "metadata": {
    "tags": []
   },
   "outputs": [
    {
     "data": {
      "text/plain": [
       "3"
      ]
     },
     "execution_count": 55,
     "metadata": {},
     "output_type": "execute_result"
    }
   ],
   "source": [
    "a[-1]"
   ]
  },
  {
   "cell_type": "code",
   "execution_count": 56,
   "id": "55af83d7-71c2-41fd-bd9e-bf4d67a52069",
   "metadata": {
    "tags": []
   },
   "outputs": [
    {
     "data": {
      "text/plain": [
       "array([56,  3,  5,  9,  3])"
      ]
     },
     "execution_count": 56,
     "metadata": {},
     "output_type": "execute_result"
    }
   ],
   "source": [
    "a[0] = 56          # eleman degiştirme\n",
    "a"
   ]
  },
  {
   "cell_type": "code",
   "execution_count": 57,
   "id": "319a49d0-f124-4814-aeff-bac26225ef4e",
   "metadata": {
    "tags": []
   },
   "outputs": [
    {
     "data": {
      "text/plain": [
       "array([[3, 0, 9, 8],\n",
       "       [0, 3, 2, 5],\n",
       "       [1, 1, 7, 7]])"
      ]
     },
     "execution_count": 57,
     "metadata": {},
     "output_type": "execute_result"
    }
   ],
   "source": [
    "m = np.random.randint(10, size = (3,4))  # iki boyutlu array oluşturma.\n",
    "m"
   ]
  },
  {
   "cell_type": "code",
   "execution_count": 58,
   "id": "baadb28e-08bd-4eaf-a637-a7eb8179e436",
   "metadata": {
    "tags": []
   },
   "outputs": [
    {
     "data": {
      "text/plain": [
       "5"
      ]
     },
     "execution_count": 58,
     "metadata": {},
     "output_type": "execute_result"
    }
   ],
   "source": [
    "m[1,3]"
   ]
  },
  {
   "cell_type": "code",
   "execution_count": 59,
   "id": "70807eac-1401-4487-b596-27567543949f",
   "metadata": {
    "tags": []
   },
   "outputs": [
    {
     "data": {
      "text/plain": [
       "array([[ 3,  0,  9,  8],\n",
       "       [ 0,  3,  2, 99],\n",
       "       [ 1,  1,  7,  7]])"
      ]
     },
     "execution_count": 59,
     "metadata": {},
     "output_type": "execute_result"
    }
   ],
   "source": [
    "m[1,3]= 99             # eleman degiştirme\n",
    "m"
   ]
  },
  {
   "cell_type": "code",
   "execution_count": 60,
   "id": "b601f74c-ba29-4822-a04d-192d6fab71f1",
   "metadata": {
    "tags": []
   },
   "outputs": [
    {
     "data": {
      "text/plain": [
       "dtype('int32')"
      ]
     },
     "execution_count": 60,
     "metadata": {},
     "output_type": "execute_result"
    }
   ],
   "source": [
    "m.dtype"
   ]
  },
  {
   "cell_type": "code",
   "execution_count": 61,
   "id": "0c2fce81-46aa-452e-8462-6b6fb189b8e3",
   "metadata": {
    "tags": []
   },
   "outputs": [
    {
     "data": {
      "text/plain": [
       "array([[3, 0, 9, 8],\n",
       "       [0, 3, 2, 2],\n",
       "       [1, 1, 7, 7]])"
      ]
     },
     "execution_count": 61,
     "metadata": {},
     "output_type": "execute_result"
    }
   ],
   "source": [
    "m[1,3] = 2.2           # 2.2'nin ondalık kısmı olmadan ekler.\n",
    "m "
   ]
  },
  {
   "cell_type": "markdown",
   "id": "258f882f-98ae-467c-8b05-bfb2f9bc9790",
   "metadata": {},
   "source": [
    "### Slicing ile Elemanlara Erişmek "
   ]
  },
  {
   "cell_type": "code",
   "execution_count": 62,
   "id": "3fcdede7-207b-48a0-acc3-47e4a5157e8e",
   "metadata": {
    "tags": []
   },
   "outputs": [
    {
     "data": {
      "text/plain": [
       "array([20, 21, 22, 23, 24, 25, 26, 27, 28, 29])"
      ]
     },
     "execution_count": 62,
     "metadata": {},
     "output_type": "execute_result"
    }
   ],
   "source": [
    "a = np.arange(20,30)\n",
    "a"
   ]
  },
  {
   "cell_type": "code",
   "execution_count": 63,
   "id": "9f21400a-f976-4131-b17f-49d1b2d68288",
   "metadata": {
    "tags": []
   },
   "outputs": [
    {
     "data": {
      "text/plain": [
       "array([21, 23, 25, 27, 29])"
      ]
     },
     "execution_count": 63,
     "metadata": {},
     "output_type": "execute_result"
    }
   ],
   "source": [
    "a[1::2]"
   ]
  },
  {
   "cell_type": "code",
   "execution_count": 64,
   "id": "2ea7bbef-a4a2-4e0c-b979-a71bdc61f8a9",
   "metadata": {
    "tags": []
   },
   "outputs": [
    {
     "data": {
      "text/plain": [
       "array([23, 26, 29])"
      ]
     },
     "execution_count": 64,
     "metadata": {},
     "output_type": "execute_result"
    }
   ],
   "source": [
    "a[3::3]"
   ]
  },
  {
   "cell_type": "markdown",
   "id": "03fa8e00-0ac3-4ff8-ba03-842f13fbb7cf",
   "metadata": {},
   "source": [
    "##### iki boyutlu slice işlemleri"
   ]
  },
  {
   "cell_type": "code",
   "execution_count": 65,
   "id": "b004e98d-ac6e-4e27-9499-6e33566cb56f",
   "metadata": {
    "tags": []
   },
   "outputs": [
    {
     "data": {
      "text/plain": [
       "array([[1, 2, 4, 5, 9],\n",
       "       [6, 5, 8, 3, 7],\n",
       "       [3, 9, 6, 3, 1],\n",
       "       [2, 5, 3, 0, 1],\n",
       "       [0, 2, 7, 7, 3]])"
      ]
     },
     "execution_count": 65,
     "metadata": {},
     "output_type": "execute_result"
    }
   ],
   "source": [
    "k = np.random.randint(10, size = (5,5))\n",
    "k"
   ]
  },
  {
   "cell_type": "code",
   "execution_count": 66,
   "id": "e6d08efc-dee8-4098-b8bb-753fe7d89f7e",
   "metadata": {
    "tags": []
   },
   "outputs": [
    {
     "data": {
      "text/plain": [
       "array([1, 6, 3, 2, 0])"
      ]
     },
     "execution_count": 66,
     "metadata": {},
     "output_type": "execute_result"
    }
   ],
   "source": [
    "k[:,0]     # bütün satırları seç,1.sütuna eriş"
   ]
  },
  {
   "cell_type": "code",
   "execution_count": 67,
   "id": "b40700c6-82d9-438a-acd1-9b8234714f63",
   "metadata": {
    "tags": []
   },
   "outputs": [
    {
     "data": {
      "text/plain": [
       "array([1, 2, 4, 5, 9])"
      ]
     },
     "execution_count": 67,
     "metadata": {},
     "output_type": "execute_result"
    }
   ],
   "source": [
    "k[0,:]     # 1.satır , tum sütunları seç"
   ]
  },
  {
   "cell_type": "code",
   "execution_count": 68,
   "id": "e2167ca2-5455-430b-b4b5-c7b5b31a9e71",
   "metadata": {
    "tags": []
   },
   "outputs": [
    {
     "data": {
      "text/plain": [
       "array([[1, 2, 4],\n",
       "       [6, 5, 8]])"
      ]
     },
     "execution_count": 68,
     "metadata": {},
     "output_type": "execute_result"
    }
   ],
   "source": [
    "k[0:2,0:3]"
   ]
  },
  {
   "cell_type": "code",
   "execution_count": 69,
   "id": "be0a4eee-fcc1-4f6c-b8df-ba6d05ed012e",
   "metadata": {
    "tags": []
   },
   "outputs": [
    {
     "data": {
      "text/plain": [
       "array([8, 6, 3, 7])"
      ]
     },
     "execution_count": 69,
     "metadata": {},
     "output_type": "execute_result"
    }
   ],
   "source": [
    "k[1:,2]    "
   ]
  },
  {
   "cell_type": "code",
   "execution_count": 70,
   "id": "82d07043-0130-487b-9eef-cd9815cf6932",
   "metadata": {
    "tags": []
   },
   "outputs": [
    {
     "data": {
      "text/plain": [
       "array([[1, 2],\n",
       "       [6, 5],\n",
       "       [3, 9],\n",
       "       [2, 5],\n",
       "       [0, 2]])"
      ]
     },
     "execution_count": 70,
     "metadata": {},
     "output_type": "execute_result"
    }
   ],
   "source": [
    "k[:,:2]"
   ]
  },
  {
   "cell_type": "markdown",
   "id": "9f342fa9-aa1f-42b6-933e-4221556f9ca5",
   "metadata": {},
   "source": [
    "### Fancy Index ile Elemanlara Erişmek"
   ]
  },
  {
   "cell_type": "markdown",
   "id": "ac303091-182b-40a9-8f8c-6ea4558af56e",
   "metadata": {
    "tags": []
   },
   "source": [
    "##### tek boyut"
   ]
  },
  {
   "cell_type": "code",
   "execution_count": 71,
   "id": "149a7a32-047d-4719-8014-096457c4e394",
   "metadata": {
    "tags": []
   },
   "outputs": [
    {
     "data": {
      "text/plain": [
       "array([ 0,  3,  6,  9, 12, 15, 18])"
      ]
     },
     "execution_count": 71,
     "metadata": {},
     "output_type": "execute_result"
    }
   ],
   "source": [
    "v = np.arange(0,20,3)\n",
    "v"
   ]
  },
  {
   "cell_type": "code",
   "execution_count": 72,
   "id": "f1bcc9da-3d21-45de-bd5a-357c4797aee2",
   "metadata": {
    "tags": []
   },
   "outputs": [],
   "source": [
    "v_deger=[1,3,5]"
   ]
  },
  {
   "cell_type": "code",
   "execution_count": 73,
   "id": "41f1096c-6e54-4025-b49f-0d29fc56eeff",
   "metadata": {
    "tags": []
   },
   "outputs": [
    {
     "data": {
      "text/plain": [
       "array([ 3,  9, 15])"
      ]
     },
     "execution_count": 73,
     "metadata": {},
     "output_type": "execute_result"
    }
   ],
   "source": [
    "v[v_deger]"
   ]
  },
  {
   "cell_type": "markdown",
   "id": "b677685f-7622-4a51-b64d-988255c6d8e0",
   "metadata": {},
   "source": [
    "##### iki boyut"
   ]
  },
  {
   "cell_type": "code",
   "execution_count": 74,
   "id": "fb0bc7dc-8524-4192-81cb-d0468365b836",
   "metadata": {
    "tags": []
   },
   "outputs": [
    {
     "data": {
      "text/plain": [
       "array([[0, 0, 2],\n",
       "       [7, 9, 3],\n",
       "       [8, 4, 6]])"
      ]
     },
     "execution_count": 74,
     "metadata": {},
     "output_type": "execute_result"
    }
   ],
   "source": [
    "m = np.random.randint(0,10,(3,3))\n",
    "m"
   ]
  },
  {
   "cell_type": "code",
   "execution_count": 75,
   "id": "7931733e-c4a8-479b-9a96-884de0564612",
   "metadata": {
    "tags": []
   },
   "outputs": [],
   "source": [
    "satir = np.array([0,1])  \n",
    "sutun = np.array([1,2])"
   ]
  },
  {
   "cell_type": "code",
   "execution_count": 76,
   "id": "1e2f8777-8d7f-4b29-a8d6-10bddac69ddb",
   "metadata": {
    "tags": []
   },
   "outputs": [
    {
     "data": {
      "text/plain": [
       "array([0, 3])"
      ]
     },
     "execution_count": 76,
     "metadata": {},
     "output_type": "execute_result"
    }
   ],
   "source": [
    "m[satir,sutun]"
   ]
  },
  {
   "cell_type": "markdown",
   "id": "d8f93308-95a3-4dc8-9c5d-f9e42a465f8c",
   "metadata": {
    "tags": []
   },
   "source": [
    "### Koşullu Eleman İşlemleri"
   ]
  },
  {
   "cell_type": "code",
   "execution_count": 77,
   "id": "76c2845a-cb8f-431a-b691-b08eff1c4282",
   "metadata": {
    "tags": []
   },
   "outputs": [],
   "source": [
    "v = np.arange(0,31,3)"
   ]
  },
  {
   "cell_type": "code",
   "execution_count": 78,
   "id": "41fd607c-23ed-4592-868e-1318c400ee7e",
   "metadata": {
    "tags": []
   },
   "outputs": [
    {
     "data": {
      "text/plain": [
       "array([ 0,  3,  6,  9, 12, 15, 18, 21, 24, 27, 30])"
      ]
     },
     "execution_count": 78,
     "metadata": {},
     "output_type": "execute_result"
    }
   ],
   "source": [
    "v"
   ]
  },
  {
   "cell_type": "code",
   "execution_count": 79,
   "id": "d1efda0f-8d36-49f5-9e7a-42564362f3a9",
   "metadata": {
    "tags": []
   },
   "outputs": [
    {
     "data": {
      "text/plain": [
       "array([ True,  True, False, False, False, False, False, False, False,\n",
       "       False, False])"
      ]
     },
     "execution_count": 79,
     "metadata": {},
     "output_type": "execute_result"
    }
   ],
   "source": [
    "v<4"
   ]
  },
  {
   "cell_type": "code",
   "execution_count": 80,
   "id": "ae7f4d2c-cbcd-4245-95cb-b56425cf3f9f",
   "metadata": {
    "tags": []
   },
   "outputs": [
    {
     "data": {
      "text/plain": [
       "array([ 0,  3,  6,  9, 12, 15, 18])"
      ]
     },
     "execution_count": 80,
     "metadata": {},
     "output_type": "execute_result"
    }
   ],
   "source": [
    "v[v<20]"
   ]
  },
  {
   "cell_type": "markdown",
   "id": "ed3dda0c-fc61-402f-897f-60c4393e626f",
   "metadata": {},
   "source": [
    "### Matematiksel İşlemler"
   ]
  },
  {
   "cell_type": "code",
   "execution_count": 81,
   "id": "2db91fa5-86fa-431e-a193-3dfa53bce978",
   "metadata": {
    "tags": []
   },
   "outputs": [],
   "source": [
    "v = np.array([3,6,8,2,9])"
   ]
  },
  {
   "cell_type": "code",
   "execution_count": 82,
   "id": "aef0e1e2-811f-4b30-b741-cdeed8dd17f0",
   "metadata": {
    "tags": []
   },
   "outputs": [
    {
     "data": {
      "text/plain": [
       "array([2, 5, 7, 1, 8])"
      ]
     },
     "execution_count": 82,
     "metadata": {},
     "output_type": "execute_result"
    }
   ],
   "source": [
    "np.subtract(v,1)        # v - 1"
   ]
  },
  {
   "cell_type": "code",
   "execution_count": 83,
   "id": "874b5212-1c9d-47a5-9eae-fc547c947f5e",
   "metadata": {
    "tags": []
   },
   "outputs": [
    {
     "data": {
      "text/plain": [
       "array([ 4,  7,  9,  3, 10])"
      ]
     },
     "execution_count": 83,
     "metadata": {},
     "output_type": "execute_result"
    }
   ],
   "source": [
    "np.add(v,1)             # v + 1"
   ]
  },
  {
   "cell_type": "code",
   "execution_count": 84,
   "id": "86d5e3dd-19ea-4b90-9d25-34ad4803ba79",
   "metadata": {
    "tags": []
   },
   "outputs": [
    {
     "data": {
      "text/plain": [
       "array([ 6, 12, 16,  4, 18])"
      ]
     },
     "execution_count": 84,
     "metadata": {},
     "output_type": "execute_result"
    }
   ],
   "source": [
    "np.multiply(v,2)        # v*2"
   ]
  },
  {
   "cell_type": "code",
   "execution_count": 85,
   "id": "298ffb96-9a89-47dc-95e5-ae558b431a1f",
   "metadata": {
    "tags": []
   },
   "outputs": [
    {
     "data": {
      "text/plain": [
       "array([1.        , 2.        , 2.66666667, 0.66666667, 3.        ])"
      ]
     },
     "execution_count": 85,
     "metadata": {},
     "output_type": "execute_result"
    }
   ],
   "source": [
    "np.divide(v,3)          # v / 3"
   ]
  },
  {
   "cell_type": "code",
   "execution_count": 86,
   "id": "67d4f3c9-8bab-4f6e-9dee-73824f8293d3",
   "metadata": {
    "tags": []
   },
   "outputs": [
    {
     "data": {
      "text/plain": [
       "array([ 27, 216, 512,   8, 729], dtype=int32)"
      ]
     },
     "execution_count": 86,
     "metadata": {},
     "output_type": "execute_result"
    }
   ],
   "source": [
    "np.power(v,3)           # v**3"
   ]
  },
  {
   "cell_type": "code",
   "execution_count": 87,
   "id": "cc47ae6e-5235-4038-9107-2c57021351e6",
   "metadata": {
    "tags": []
   },
   "outputs": [
    {
     "data": {
      "text/plain": [
       "array([1, 0, 0, 0, 1], dtype=int32)"
      ]
     },
     "execution_count": 87,
     "metadata": {},
     "output_type": "execute_result"
    }
   ],
   "source": [
    "np.mod(v,2)              # v % 2  ikiye bölümünden kalanlar"
   ]
  },
  {
   "cell_type": "code",
   "execution_count": 88,
   "id": "5d7d91bb-5625-4114-b1db-664b7108569e",
   "metadata": {
    "tags": []
   },
   "outputs": [
    {
     "data": {
      "text/plain": [
       "array([3])"
      ]
     },
     "execution_count": 88,
     "metadata": {},
     "output_type": "execute_result"
    }
   ],
   "source": [
    "np.absolute(np.array([-3]))     # mutlak değer"
   ]
  },
  {
   "cell_type": "code",
   "execution_count": 89,
   "id": "f910069f-2e33-4260-835a-20a4d8b06790",
   "metadata": {
    "tags": []
   },
   "outputs": [
    {
     "data": {
      "text/plain": [
       "0.9589157234143065"
      ]
     },
     "execution_count": 89,
     "metadata": {},
     "output_type": "execute_result"
    }
   ],
   "source": [
    "np.sin(360)          # trigonometrik işlemler"
   ]
  },
  {
   "cell_type": "code",
   "execution_count": 90,
   "id": "957043ef-f3b3-43b9-86f6-d103592b3cc9",
   "metadata": {
    "tags": []
   },
   "outputs": [
    {
     "data": {
      "text/plain": [
       "array([1.09861229, 1.79175947, 2.07944154, 0.69314718, 2.19722458])"
      ]
     },
     "execution_count": 90,
     "metadata": {},
     "output_type": "execute_result"
    }
   ],
   "source": [
    "np.log(v)            # logaritmasını alır"
   ]
  },
  {
   "cell_type": "code",
   "execution_count": 91,
   "id": "1549456f-3e99-44ee-86a9-a3467b5c658e",
   "metadata": {
    "tags": []
   },
   "outputs": [
    {
     "data": {
      "text/plain": [
       "array([1.5849625, 2.5849625, 3.       , 1.       , 3.169925 ])"
      ]
     },
     "execution_count": 91,
     "metadata": {},
     "output_type": "execute_result"
    }
   ],
   "source": [
    "np.log2(v) "
   ]
  },
  {
   "cell_type": "markdown",
   "id": "ef8ded7f-b924-492e-8b5f-1586de48d02b",
   "metadata": {},
   "source": [
    "### Alt Küme Üzerinde İşlem Yapmak"
   ]
  },
  {
   "cell_type": "code",
   "execution_count": 92,
   "id": "65cca5c4-2ab9-4ea3-a58b-68b7cf03cffa",
   "metadata": {
    "tags": []
   },
   "outputs": [
    {
     "data": {
      "text/plain": [
       "array([[2, 1, 0, 7, 8],\n",
       "       [1, 9, 6, 5, 7],\n",
       "       [5, 3, 1, 3, 4],\n",
       "       [8, 9, 2, 7, 9],\n",
       "       [3, 0, 8, 0, 7]])"
      ]
     },
     "execution_count": 92,
     "metadata": {},
     "output_type": "execute_result"
    }
   ],
   "source": [
    "h = np.random.randint(10, size = (5,5))\n",
    "h"
   ]
  },
  {
   "cell_type": "code",
   "execution_count": 93,
   "id": "83afbe2d-1e15-4481-8c7b-aec622aad084",
   "metadata": {
    "tags": []
   },
   "outputs": [
    {
     "data": {
      "text/plain": [
       "array([[2, 1],\n",
       "       [1, 9],\n",
       "       [5, 3]])"
      ]
     },
     "execution_count": 93,
     "metadata": {},
     "output_type": "execute_result"
    }
   ],
   "source": [
    "alt_a = h[0:3,0:2].copy()       # .copy()  metodu ile alt kümede yaptığımız değişikler ana arrayi etkilemez. \n",
    "alt_a"
   ]
  },
  {
   "cell_type": "code",
   "execution_count": 94,
   "id": "0937f3ac-0239-4bce-923e-b93888589e93",
   "metadata": {
    "tags": []
   },
   "outputs": [
    {
     "data": {
      "text/plain": [
       "array([[ 2,  1],\n",
       "       [ 1,  9],\n",
       "       [ 5, 66]])"
      ]
     },
     "execution_count": 94,
     "metadata": {},
     "output_type": "execute_result"
    }
   ],
   "source": [
    "alt_a[2,1] = 66\n",
    "alt_a"
   ]
  },
  {
   "cell_type": "code",
   "execution_count": 95,
   "id": "d30a19b9-d4c9-4890-a480-bcbab694cdfa",
   "metadata": {
    "tags": []
   },
   "outputs": [
    {
     "data": {
      "text/plain": [
       "array([[2, 1, 0, 7, 8],\n",
       "       [1, 9, 6, 5, 7],\n",
       "       [5, 3, 1, 3, 4],\n",
       "       [8, 9, 2, 7, 9],\n",
       "       [3, 0, 8, 0, 7]])"
      ]
     },
     "execution_count": 95,
     "metadata": {},
     "output_type": "execute_result"
    }
   ],
   "source": [
    "h"
   ]
  },
  {
   "cell_type": "code",
   "execution_count": null,
   "id": "2df2955c-7b00-49a5-8752-e14a6613b131",
   "metadata": {},
   "outputs": [],
   "source": []
  }
 ],
 "metadata": {
  "kernelspec": {
   "display_name": "Python 3 (ipykernel)",
   "language": "python",
   "name": "python3"
  },
  "language_info": {
   "codemirror_mode": {
    "name": "ipython",
    "version": 3
   },
   "file_extension": ".py",
   "mimetype": "text/x-python",
   "name": "python",
   "nbconvert_exporter": "python",
   "pygments_lexer": "ipython3",
   "version": "3.11.3"
  }
 },
 "nbformat": 4,
 "nbformat_minor": 5
}
