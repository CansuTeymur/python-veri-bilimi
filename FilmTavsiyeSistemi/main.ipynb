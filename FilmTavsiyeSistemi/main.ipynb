{
 "cells": [
  {
   "cell_type": "code",
   "execution_count": 1,
   "id": "30d1ef13-9e85-4f2c-aa0d-dc99e5e7090c",
   "metadata": {
    "tags": []
   },
   "outputs": [],
   "source": [
    "import pandas as pd\n",
    "import numpy as np\n",
    "import matplotlib.pyplot as plt\n",
    "import seaborn as sns\n",
    "from sklearn.feature_extraction.text import TfidfVectorizer\n",
    "from sklearn.metrics.pairwise import cosine_similarity\n",
    "\n",
    "%matplotlib inline\n",
    "sns.set(style=\"darkgrid\")"
   ]
  },
  {
   "cell_type": "code",
   "execution_count": null,
   "id": "45ea38c6-04b1-4870-ac35-2361e4db89a9",
   "metadata": {},
   "outputs": [],
   "source": [
    "# Bir filmin içeriğine (özellikle türlerine) bakarak benzer filmleri öneririz."
   ]
  },
  {
   "cell_type": "code",
   "execution_count": 2,
   "id": "f0dbc7cd-d420-4428-a00c-a7c5b1dd2224",
   "metadata": {
    "tags": []
   },
   "outputs": [],
   "source": [
    "movies = pd.read_csv(\"data/movies.csv\") \n",
    "ratings = pd.read_csv(\"data/ratings.csv\")"
   ]
  },
  {
   "cell_type": "code",
   "execution_count": 3,
   "id": "87f68abb-b951-4c5c-9296-e2e18e9283f5",
   "metadata": {
    "tags": []
   },
   "outputs": [
    {
     "name": "stdout",
     "output_type": "stream",
     "text": [
      "Movies:\n",
      "   movieId                               title  \\\n",
      "0        1                    Toy Story (1995)   \n",
      "1        2                      Jumanji (1995)   \n",
      "2        3             Grumpier Old Men (1995)   \n",
      "3        4            Waiting to Exhale (1995)   \n",
      "4        5  Father of the Bride Part II (1995)   \n",
      "\n",
      "                                        genres  \n",
      "0  Adventure|Animation|Children|Comedy|Fantasy  \n",
      "1                   Adventure|Children|Fantasy  \n",
      "2                               Comedy|Romance  \n",
      "3                         Comedy|Drama|Romance  \n",
      "4                                       Comedy  \n",
      "\n",
      "Ratings:\n",
      "   userId  movieId  rating  timestamp\n",
      "0       1        1     4.0  964982703\n",
      "1       1        3     4.0  964981247\n",
      "2       1        6     4.0  964982224\n",
      "3       1       47     5.0  964983815\n",
      "4       1       50     5.0  964982931\n"
     ]
    }
   ],
   "source": [
    "print(\"Movies:\")\n",
    "print(movies.head())\n",
    "\n",
    "print(\"\\nRatings:\")\n",
    "print(ratings.head())"
   ]
  },
  {
   "cell_type": "code",
   "execution_count": 4,
   "id": "b4c9a086-e1cf-4dd4-b32e-926eae26a317",
   "metadata": {
    "tags": []
   },
   "outputs": [
    {
     "name": "stdout",
     "output_type": "stream",
     "text": [
      "Movies Info:\n",
      "<class 'pandas.core.frame.DataFrame'>\n",
      "RangeIndex: 9742 entries, 0 to 9741\n",
      "Data columns (total 3 columns):\n",
      " #   Column   Non-Null Count  Dtype \n",
      "---  ------   --------------  ----- \n",
      " 0   movieId  9742 non-null   int64 \n",
      " 1   title    9742 non-null   object\n",
      " 2   genres   9742 non-null   object\n",
      "dtypes: int64(1), object(2)\n",
      "memory usage: 228.5+ KB\n",
      "None\n",
      "\n",
      "Ratings Info:\n",
      "<class 'pandas.core.frame.DataFrame'>\n",
      "RangeIndex: 100836 entries, 0 to 100835\n",
      "Data columns (total 4 columns):\n",
      " #   Column     Non-Null Count   Dtype  \n",
      "---  ------     --------------   -----  \n",
      " 0   userId     100836 non-null  int64  \n",
      " 1   movieId    100836 non-null  int64  \n",
      " 2   rating     100836 non-null  float64\n",
      " 3   timestamp  100836 non-null  int64  \n",
      "dtypes: float64(1), int64(3)\n",
      "memory usage: 3.1 MB\n",
      "None\n",
      "\n",
      "Null Değer Kontrolü:\n",
      "Movies:\n",
      " movieId    0\n",
      "title      0\n",
      "genres     0\n",
      "dtype: int64\n",
      "Ratings:\n",
      " userId       0\n",
      "movieId      0\n",
      "rating       0\n",
      "timestamp    0\n",
      "dtype: int64\n"
     ]
    }
   ],
   "source": [
    "print(\"Movies Info:\")\n",
    "print(movies.info())\n",
    "\n",
    "print(\"\\nRatings Info:\")\n",
    "print(ratings.info())\n",
    "\n",
    "print(\"\\nNull Değer Kontrolü:\")\n",
    "print(\"Movies:\\n\", movies.isnull().sum())\n",
    "print(\"Ratings:\\n\", ratings.isnull().sum())"
   ]
  },
  {
   "cell_type": "markdown",
   "id": "5b1cad6a-740b-42b5-8edf-d24782b04560",
   "metadata": {},
   "source": [
    "### En çok puan alan filmler"
   ]
  },
  {
   "cell_type": "code",
   "execution_count": 6,
   "id": "aa29ee47-921b-41c0-bcfd-f1c2c9387c34",
   "metadata": {
    "tags": []
   },
   "outputs": [
    {
     "name": "stdout",
     "output_type": "stream",
     "text": [
      "                                          title  rating_count\n",
      "97                            Braveheart (1995)           237\n",
      "224   Star Wars: Episode IV - A New Hope (1977)           251\n",
      "257                         Pulp Fiction (1994)           307\n",
      "277            Shawshank Redemption, The (1994)           317\n",
      "314                         Forrest Gump (1994)           329\n",
      "418                        Jurassic Park (1993)           238\n",
      "461                     Schindler's List (1993)           220\n",
      "507           Terminator 2: Judgment Day (1991)           224\n",
      "510            Silence of the Lambs, The (1991)           279\n",
      "1939                         Matrix, The (1999)           278\n"
     ]
    }
   ],
   "source": [
    "rating_counts = ratings['movieId'].value_counts().head(10)\n",
    "\n",
    "top_movies = movies[movies['movieId'].isin(rating_counts.index)].copy()\n",
    "top_movies['rating_count'] = top_movies['movieId'].map(rating_counts)\n",
    "\n",
    "print(top_movies[['title', 'rating_count']])"
   ]
  },
  {
   "cell_type": "code",
   "execution_count": 7,
   "id": "a79bc01d-3473-475b-87d7-5934563a29ca",
   "metadata": {
    "tags": []
   },
   "outputs": [
    {
     "data": {
      "image/png": "[encoded data removed]",
      "text/plain": [
       "<Figure size 800x400 with 1 Axes>"
      ]
     },
     "metadata": {},
     "output_type": "display_data"
    }
   ],
   "source": [
    "plt.figure(figsize=(8, 4))\n",
    "sns.histplot(ratings['rating'], bins=10, kde=True)\n",
    "plt.title(\"Film Puan Dağılımı\")\n",
    "plt.xlabel(\"Puan\")\n",
    "plt.ylabel(\"Frekans\")\n",
    "plt.show()"
   ]
  },
  {
   "cell_type": "code",
   "execution_count": 8,
   "id": "0a67b369-259a-4945-999f-09bf6ee55740",
   "metadata": {
    "tags": []
   },
   "outputs": [
    {
     "data": {
      "text/html": [
       "<div>\n",
       "<style scoped>\n",
       "    .dataframe tbody tr th:only-of-type {\n",
       "        vertical-align: middle;\n",
       "    }\n",
       "\n",
       "    .dataframe tbody tr th {\n",
       "        vertical-align: top;\n",
       "    }\n",
       "\n",
       "    .dataframe thead th {\n",
       "        text-align: right;\n",
       "    }\n",
       "</style>\n",
       "<table border=\"1\" class=\"dataframe\">\n",
       "  <thead>\n",
       "    <tr style=\"text-align: right;\">\n",
       "      <th></th>\n",
       "      <th>title</th>\n",
       "      <th>genres</th>\n",
       "    </tr>\n",
       "  </thead>\n",
       "  <tbody>\n",
       "    <tr>\n",
       "      <th>0</th>\n",
       "      <td>Toy Story (1995)</td>\n",
       "      <td>[Adventure, Animation, Children, Comedy, Fantasy]</td>\n",
       "    </tr>\n",
       "    <tr>\n",
       "      <th>1</th>\n",
       "      <td>Jumanji (1995)</td>\n",
       "      <td>[Adventure, Children, Fantasy]</td>\n",
       "    </tr>\n",
       "    <tr>\n",
       "      <th>2</th>\n",
       "      <td>Grumpier Old Men (1995)</td>\n",
       "      <td>[Comedy, Romance]</td>\n",
       "    </tr>\n",
       "    <tr>\n",
       "      <th>3</th>\n",
       "      <td>Waiting to Exhale (1995)</td>\n",
       "      <td>[Comedy, Drama, Romance]</td>\n",
       "    </tr>\n",
       "    <tr>\n",
       "      <th>4</th>\n",
       "      <td>Father of the Bride Part II (1995)</td>\n",
       "      <td>[Comedy]</td>\n",
       "    </tr>\n",
       "  </tbody>\n",
       "</table>\n",
       "</div>"
      ],
      "text/plain": [
       "                                title  \\\n",
       "0                    Toy Story (1995)   \n",
       "1                      Jumanji (1995)   \n",
       "2             Grumpier Old Men (1995)   \n",
       "3            Waiting to Exhale (1995)   \n",
       "4  Father of the Bride Part II (1995)   \n",
       "\n",
       "                                              genres  \n",
       "0  [Adventure, Animation, Children, Comedy, Fantasy]  \n",
       "1                     [Adventure, Children, Fantasy]  \n",
       "2                                  [Comedy, Romance]  \n",
       "3                           [Comedy, Drama, Romance]  \n",
       "4                                           [Comedy]  "
      ]
     },
     "execution_count": 8,
     "metadata": {},
     "output_type": "execute_result"
    }
   ],
   "source": [
    "movies['genres'] = movies['genres'].apply(lambda x: x.split('|'))\n",
    "movies[['title', 'genres']].head()"
   ]
  },
  {
   "cell_type": "code",
   "execution_count": 9,
   "id": "b81489b4-5cf3-4241-baa3-0c939721dc7b",
   "metadata": {
    "tags": []
   },
   "outputs": [
    {
     "name": "stdout",
     "output_type": "stream",
     "text": [
      "                                title  \\\n",
      "0                    Toy Story (1995)   \n",
      "1                      Jumanji (1995)   \n",
      "2             Grumpier Old Men (1995)   \n",
      "3            Waiting to Exhale (1995)   \n",
      "4  Father of the Bride Part II (1995)   \n",
      "\n",
      "                                    genres_str  \n",
      "0  Adventure Animation Children Comedy Fantasy  \n",
      "1                   Adventure Children Fantasy  \n",
      "2                               Comedy Romance  \n",
      "3                         Comedy Drama Romance  \n",
      "4                                       Comedy  \n"
     ]
    }
   ],
   "source": [
    "movies['genres_str'] = movies['genres'].apply(lambda x: ' '.join(x))\n",
    "print(movies[['title', 'genres_str']].head())"
   ]
  },
  {
   "cell_type": "code",
   "execution_count": 10,
   "id": "f81b01d9-2cc2-4d18-a4a8-53336e4e1776",
   "metadata": {
    "tags": []
   },
   "outputs": [
    {
     "name": "stdout",
     "output_type": "stream",
     "text": [
      "TF-IDF matrix shape: (9742, 24)\n"
     ]
    }
   ],
   "source": [
    "# TF-IDF ile tür bilgilerini sayısal vektörlere çeviririz\n",
    "tf_idf = TfidfVectorizer()\n",
    "tf_idf_matrix = tf_idf.fit_transform(movies['genres_str'])\n",
    "\n",
    "print(\"TF-IDF matrix shape:\", tf_idf_matrix.shape)"
   ]
  },
  {
   "cell_type": "code",
   "execution_count": 11,
   "id": "2c5b6ca2-dd1b-4e78-ae34-3b4ad553a3ab",
   "metadata": {
    "tags": []
   },
   "outputs": [],
   "source": [
    "# Benzerlik matrisi\n",
    "# Her film arasındaki benzerliği hesaplarız.\n",
    "cosine_sim = cosine_similarity(tf_idf_matrix, tf_idf_matrix)"
   ]
  },
  {
   "cell_type": "code",
   "execution_count": null,
   "id": "ea800318-ac4d-46e2-9fbc-0d5604651c48",
   "metadata": {},
   "outputs": [],
   "source": [
    "# Belirli bir film adına göre en benzer filmleri önerir : "
   ]
  },
  {
   "cell_type": "code",
   "execution_count": 12,
   "id": "48d75411-de13-4536-9b90-2235f6e52511",
   "metadata": {
    "tags": []
   },
   "outputs": [],
   "source": [
    "indices = pd.Series(movies.index, index=movies['title']) \n",
    "\n",
    "def recommend(title, cosine_sim=cosine_sim, top_n=5):  # öneri fonksiyonu\n",
    "    idx = indices[title]  # Kullanıcının girdiği film adına karşılık gelen satır indeksini bulur\n",
    "    sim_scores = list(enumerate(cosine_sim[idx]))  # Girilen filmle diğer tüm filmler arasındaki benzerlik skorlarını alır\n",
    "    sim_scores = sorted(sim_scores, key=lambda x: x[1], reverse=True) # Film benzerlik skorlarını sıralar\n",
    "    sim_scores = sim_scores[1:top_n+1]   # İlk filmi kendisi, onu atlayıp ilk N öneriyi alır\n",
    "    movie_indices = [i[0] for i in sim_scores] # Önerilen filmlerin indexleridir\n",
    "\n",
    "    return movies['title'].iloc[movie_indices]"
   ]
  },
  {
   "cell_type": "code",
   "execution_count": 13,
   "id": "5e342b77-6909-45c5-823e-7f28ff8f5127",
   "metadata": {
    "tags": []
   },
   "outputs": [
    {
     "data": {
      "text/plain": [
       "53             Indian in the Cupboard, The (1995)\n",
       "109             NeverEnding Story III, The (1994)\n",
       "767               Escape to Witch Mountain (1975)\n",
       "1514    Darby O'Gill and the Little People (1959)\n",
       "1556                          Return to Oz (1985)\n",
       "Name: title, dtype: object"
      ]
     },
     "execution_count": 13,
     "metadata": {},
     "output_type": "execute_result"
    }
   ],
   "source": [
    "recommend(\"Jumanji (1995)\")"
   ]
  },
  {
   "cell_type": "code",
   "execution_count": null,
   "id": "91bdeb70-cbcc-43ae-84f2-9eff901869fd",
   "metadata": {},
   "outputs": [],
   "source": []
  }
 ],
 "metadata": {
  "kernelspec": {
   "display_name": "Python 3 (ipykernel)",
   "language": "python",
   "name": "python3"
  },
  "language_info": {
   "codemirror_mode": {
    "name": "ipython",
    "version": 3
   },
   "file_extension": ".py",
   "mimetype": "text/x-python",
   "name": "python",
   "nbconvert_exporter": "python",
   "pygments_lexer": "ipython3",
   "version": "3.11.3"
  }
 },
 "nbformat": 4,
 "nbformat_minor": 5
}
